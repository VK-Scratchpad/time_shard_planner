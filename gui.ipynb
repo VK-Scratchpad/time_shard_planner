{
 "cells": [
  {
   "cell_type": "code",
   "execution_count": 41,
   "id": "initial_id",
   "metadata": {
    "ExecuteTime": {
     "end_time": "2024-02-22T08:32:41.496843400Z",
     "start_time": "2024-02-22T08:32:41.481802300Z"
    }
   },
   "outputs": [],
   "source": [
    "from ipywidgets import interact, Dropdown, Output, GridspecLayout, VBox, BoundedIntText, HBox, Button, TwoByTwoLayout, Layout\n",
    "import calculations"
   ]
  },
  {
   "cell_type": "code",
   "execution_count": 42,
   "id": "93f0a551345340b7",
   "metadata": {
    "collapsed": false,
    "ExecuteTime": {
     "end_time": "2024-02-22T08:32:41.512895300Z",
     "start_time": "2024-02-22T08:32:41.496843400Z"
    }
   },
   "outputs": [],
   "source": [
    "### Define the Devourer Level widgets\n",
    "\n",
    "# Define the options for dropdown menus\n",
    "options = {\n",
    "    'Devourer Lvl': [x for x in range(35, 101, 5)]\n",
    "}\n",
    "\n",
    "# Define the output textbox\n",
    "output_level = Output()\n",
    "\n",
    "# Define a function to update the level textbox\n",
    "def update_output_level(dev_level_dropdown_val):\n",
    "    output_level.clear_output()\n",
    "    with output_level:\n",
    "        print(f\"{calculations.get_level_shards(dev_level_dropdown_val):,}\")    # :, automatically adds the thousands separator\n",
    "\n",
    "# Create dropdown widgets\n",
    "dev_level_dropdown = Dropdown(options=options['Devourer Lvl'], description='Devourer Lvl:')\n",
    "\n",
    "# Create an interaction between the dropdowns and the output textbox\n",
    "dev_level_dropdown.observe(update_output_level, names='value')"
   ]
  },
  {
   "cell_type": "code",
   "execution_count": 43,
   "id": "0f9cd7fd-933a-45fd-8c81-febfa1c3d4f4",
   "metadata": {
    "ExecuteTime": {
     "end_time": "2024-02-22T08:32:41.525440700Z",
     "start_time": "2024-02-22T08:32:41.510894800Z"
    }
   },
   "outputs": [],
   "source": [
    "### Define the Feats widgets\n",
    "\n",
    "# Define the options for dropdown menus\n",
    "options = {\n",
    "    'Feats': [x for x in range(1, 26)],\n",
    "}\n",
    "\n",
    "# Define the output textbox\n",
    "output_feats = Output()\n",
    "\n",
    "# Define a function to update the feats textbox\n",
    "def update_output_feats(feats_dropdown_val):\n",
    "    output_feats.clear_output()\n",
    "    with output_feats:\n",
    "        print(f\"{calculations.get_feat_shards(feats_dropdown_val)}%\")\n",
    "\n",
    "# Create dropdown widgets\n",
    "feats_dropdown = Dropdown(options=options['Feats'], description='Feats:')\n",
    "\n",
    "# Create an interaction between the dropdowns and the output textbox\n",
    "feats_dropdown.observe(update_output_feats, names='value')"
   ]
  },
  {
   "cell_type": "code",
   "execution_count": 44,
   "id": "5c6f7b9fdee8f8c5",
   "metadata": {
    "collapsed": false,
    "ExecuteTime": {
     "end_time": "2024-02-22T08:32:41.542263200Z",
     "start_time": "2024-02-22T08:32:41.528948900Z"
    }
   },
   "outputs": [],
   "source": [
    "### Define the Other widget\n",
    "\n",
    "# Define the output textbox\n",
    "output_other = Output()\n",
    "\n",
    "# Define int input box for Other category\n",
    "other_shards = BoundedIntText(value=100, min=100, max=150, description='Other:', disabled=False)\n",
    "\n",
    "# Define a function to update the other textbox\n",
    "def update_output_other(other_val):\n",
    "    output_other.clear_output()\n",
    "    with output_other:\n",
    "        print(f\"{other_val}%\")\n",
    "\n",
    "# Create an interaction between the dropdowns and the output textbox\n",
    "other_shards.observe(update_output_other, names='value')"
   ]
  },
  {
   "cell_type": "code",
   "execution_count": 45,
   "id": "d7106f9574f13d",
   "metadata": {
    "collapsed": false,
    "ExecuteTime": {
     "end_time": "2024-02-22T08:32:41.572405700Z",
     "start_time": "2024-02-22T08:32:41.547839300Z"
    }
   },
   "outputs": [],
   "source": [
    "### Define the legendaries widget\n",
    "\n",
    "# Define the output textbox\n",
    "output_legend = Output()\n",
    "\n",
    "# Define the options for dropdown menus\n",
    "options = calculations.list_legendary_limits()\n",
    "\n",
    "# Define the descriptions for dropdown menus\n",
    "descriptions = calculations.list_legendaries()\n",
    "\n",
    "# Create a 4x4 grid to hold the dropdowns\n",
    "grid = GridspecLayout(4, 4)\n",
    "\n",
    "# Create callback for grid changes\n",
    "def cell_eventhandler(change):\n",
    "    output_legend.clear_output()\n",
    "    with output_legend:\n",
    "        calculations.update_legendary_count(change['new'], change['owner'].description)\n",
    "        print(calculations.get_legendary_shards())\n",
    "\n",
    "# Create callback for clear button\n",
    "def on_clear_click(click):\n",
    "    calculations.init_legendary_table()\n",
    "    reset_grid()\n",
    "    \n",
    "\n",
    "# Reset legendary counts to 0\n",
    "def reset_grid():\n",
    "    for i in range(4):\n",
    "        for j in range(3):\n",
    "            grid[i, j].value = 0\n",
    "\n",
    "# Loop through each cell in the grid\n",
    "for i in range(4):\n",
    "    for j in range(3):\n",
    "        idx = (3 * i) + j\n",
    "        desc = descriptions[idx]\n",
    "        \n",
    "        if options[idx] == -1:\n",
    "            textbox = BoundedIntText(value=0, min=0, max=100, description=f'{desc}', disabled=False)\n",
    "            textbox.observe(cell_eventhandler, names='value')\n",
    "            grid[i, j] = textbox\n",
    "        else:\n",
    "            dropdown = Dropdown(options=[x for x in range(0, options[idx] + 1)], description=f'{desc}')\n",
    "            dropdown.observe(cell_eventhandler, names='value')\n",
    "            grid[i, j] = dropdown\n",
    "\n",
    "# Add output box and clear button in last column\n",
    "clear_button = Button(description='Clear', disabled=False, layout=Layout(height='auto', width='auto'))\n",
    "grid[:4, 3] = clear_button\n",
    "\n",
    "# Add callback to button\n",
    "clear_button.on_click(on_clear_click)"
   ]
  },
  {
   "cell_type": "code",
   "execution_count": 46,
   "id": "5daaab0ba82ce4df",
   "metadata": {
    "collapsed": false,
    "ExecuteTime": {
     "end_time": "2024-02-22T08:32:41.609879600Z",
     "start_time": "2024-02-22T08:32:41.606834Z"
    }
   },
   "outputs": [
    {
     "data": {
      "text/plain": "VBox(children=(Dropdown(description='Devourer Lvl:', layout=Layout(grid_area='top-left'), options=(35, 40, 45,…",
      "application/vnd.jupyter.widget-view+json": {
       "version_major": 2,
       "version_minor": 0,
       "model_id": "5b78b04092104162bc94e22130540943"
      }
     },
     "execution_count": 46,
     "metadata": {},
     "output_type": "execute_result"
    }
   ],
   "source": [
    "### Put it all together\n",
    "\n",
    "level_and_feat = TwoByTwoLayout(\n",
    "    top_left=dev_level_dropdown, \n",
    "    top_right=output_level,\n",
    "    bottom_left=feats_dropdown,\n",
    "    bottom_right=output_feats)\n",
    "other = HBox([other_shards, output_other])\n",
    "\n",
    "widget = VBox([dev_level_dropdown, feats_dropdown, grid, other_shards])\n",
    "widget"
   ]
  },
  {
   "cell_type": "code",
   "execution_count": 46,
   "id": "10964d79-09ad-4684-923d-fe2cdf51d149",
   "metadata": {
    "ExecuteTime": {
     "end_time": "2024-02-22T08:32:41.623431800Z",
     "start_time": "2024-02-22T08:32:41.614881600Z"
    }
   },
   "outputs": [],
   "source": []
  }
 ],
 "metadata": {
  "kernelspec": {
   "display_name": "Python 3 (ipykernel)",
   "language": "python",
   "name": "python3"
  },
  "language_info": {
   "codemirror_mode": {
    "name": "ipython",
    "version": 3
   },
   "file_extension": ".py",
   "mimetype": "text/x-python",
   "name": "python",
   "nbconvert_exporter": "python",
   "pygments_lexer": "ipython3",
   "version": "3.9.7"
  }
 },
 "nbformat": 4,
 "nbformat_minor": 5
}
