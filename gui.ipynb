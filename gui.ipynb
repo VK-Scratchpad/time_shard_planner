{
 "cells": [
  {
   "cell_type": "code",
   "execution_count": 1,
   "id": "initial_id",
   "metadata": {},
   "outputs": [],
   "source": [
    "from ipywidgets import interact, Dropdown, Output, GridspecLayout, VBox, BoundedIntText, HBox, Button, TwoByTwoLayout, Layout\n",
    "import calculations"
   ]
  },
  {
   "cell_type": "markdown",
   "id": "182f8725c1cea756",
   "metadata": {
    "collapsed": false,
    "jupyter": {
     "outputs_hidden": false
    }
   },
   "source": [
    "### Define the Devourer Level widgets"
   ]
  },
  {
   "cell_type": "code",
   "execution_count": 2,
   "id": "93f0a551345340b7",
   "metadata": {
    "collapsed": false,
    "jupyter": {
     "outputs_hidden": false
    }
   },
   "outputs": [
    {
     "data": {
      "application/vnd.jupyter.widget-view+json": {
       "model_id": "8e698c57f0c343508e8b632b996885db",
       "version_major": 2,
       "version_minor": 0
      },
      "text/plain": [
       "interactive(children=(Dropdown(description='Devourer Lvl:', options=(35, 40, 45, 50, 55, 60, 65, 70, 75, 80, 8…"
      ]
     },
     "metadata": {},
     "output_type": "display_data"
    }
   ],
   "source": [
    "# Define the options for dropdown menus\n",
    "options = {\n",
    "    'Devourer Lvl': [x for x in range(35, 101, 5)]\n",
    "}\n",
    "\n",
    "# Define the output textbox\n",
    "output_level = Output()\n",
    "\n",
    "# Define a function to update the level textbox\n",
    "def update_output_level(dev_level_dropdown_val):\n",
    "    output_level.clear_output()\n",
    "    with output_level:\n",
    "        print(f\"{calculations.get_level_shards(dev_level_dropdown_val):,}\")    # :, automatically adds the thousands separator\n",
    "\n",
    "# Create dropdown widgets\n",
    "dev_level_dropdown = Dropdown(options=options['Devourer Lvl'], description='Devourer Lvl:')\n",
    "\n",
    "# Create an interaction between the dropdowns and the output textbox\n",
    "interact(update_output_level,\n",
    "         dev_level_dropdown_val=dev_level_dropdown);"
   ]
  },
  {
   "cell_type": "markdown",
   "id": "b6e334f6e8d3c4f",
   "metadata": {
    "collapsed": false,
    "jupyter": {
     "outputs_hidden": false
    }
   },
   "source": [
    "### Define the Feats widgets"
   ]
  },
  {
   "cell_type": "code",
   "execution_count": 3,
   "id": "0f9cd7fd-933a-45fd-8c81-febfa1c3d4f4",
   "metadata": {},
   "outputs": [
    {
     "data": {
      "application/vnd.jupyter.widget-view+json": {
       "model_id": "67cafabef2354e38ab5a385baec6001e",
       "version_major": 2,
       "version_minor": 0
      },
      "text/plain": [
       "interactive(children=(Dropdown(description='Feats:', options=(1, 2, 3, 4, 5, 6, 7, 8, 9, 10, 11, 12, 13, 14, 1…"
      ]
     },
     "metadata": {},
     "output_type": "display_data"
    }
   ],
   "source": [
    "# Define the options for dropdown menus\n",
    "options = {\n",
    "    'Feats': [x for x in range(1, 26)],\n",
    "}\n",
    "\n",
    "# Define the output textbox\n",
    "output_feats = Output()\n",
    "\n",
    "# Define a function to update the feats textbox\n",
    "def update_output_feats(feats_dropdown_val):\n",
    "    output_feats.clear_output()\n",
    "    with output_feats:\n",
    "        print(f\"{calculations.get_feat_shards(feats_dropdown_val)}%\")\n",
    "\n",
    "# Create dropdown widgets\n",
    "feats_dropdown = Dropdown(options=options['Feats'], description='Feats:')\n",
    "\n",
    "# Create an interaction between the dropdowns and the output textbox\n",
    "interact(update_output_feats,\n",
    "         feats_dropdown_val=feats_dropdown);"
   ]
  },
  {
   "cell_type": "markdown",
   "id": "2d03fd1bf402779e",
   "metadata": {
    "collapsed": false,
    "jupyter": {
     "outputs_hidden": false
    }
   },
   "source": [
    "### Define the Other widget"
   ]
  },
  {
   "cell_type": "code",
   "execution_count": 4,
   "id": "5c6f7b9fdee8f8c5",
   "metadata": {
    "collapsed": false,
    "jupyter": {
     "outputs_hidden": false
    }
   },
   "outputs": [
    {
     "data": {
      "application/vnd.jupyter.widget-view+json": {
       "model_id": "510415016f69458687065745697b17bb",
       "version_major": 2,
       "version_minor": 0
      },
      "text/plain": [
       "interactive(children=(BoundedIntText(value=100, description='Other:', min=100), Output()), _dom_classes=('widg…"
      ]
     },
     "metadata": {},
     "output_type": "display_data"
    }
   ],
   "source": [
    "##### Define the output textbox\n",
    "output_other = Output()\n",
    "\n",
    "# Define int input box for Other category\n",
    "other_shards = BoundedIntText(\n",
    "    value=100,\n",
    "    min=100,\n",
    "    description='Other:',\n",
    "    disabled=False\n",
    ")\n",
    "\n",
    "# Define a function to update the other textbox\n",
    "def update_output_other(other_val):\n",
    "    output_other.clear_output()\n",
    "    with output_other:\n",
    "        print(f\"{other_val}%\")\n",
    "\n",
    "# Create an interaction between the dropdowns and the output textbox\n",
    "interact(update_output_other,\n",
    "         other_val=other_shards);"
   ]
  },
  {
   "cell_type": "markdown",
   "id": "fcaeb14c65686d1f",
   "metadata": {
    "collapsed": false,
    "jupyter": {
     "outputs_hidden": false
    }
   },
   "source": [
    "### Define the legendaries widget"
   ]
  },
  {
   "cell_type": "code",
   "execution_count": 13,
   "id": "d7106f9574f13d",
   "metadata": {
    "collapsed": false,
    "jupyter": {
     "outputs_hidden": false
    }
   },
   "outputs": [],
   "source": [
    "# Define the output textbox\n",
    "output_legend = Output()\n",
    "\n",
    "# Define the options for dropdown menus\n",
    "options = calculations.list_legendary_limits()\n",
    "\n",
    "# Define the descriptions for dropdown menus\n",
    "descriptions = calculations.list_legendaries()\n",
    "\n",
    "# Create a 4x4 grid to hold the dropdowns\n",
    "grid = GridspecLayout(4, 4)\n",
    "\n",
    "# Create callback for grid changes\n",
    "def cell_eventhandler(change):\n",
    "    output_legend.clear_output()\n",
    "    with output_legend:\n",
    "        calculations.update_legendary_count(change['new'], change['owner'].description)\n",
    "        print(calculations.get_legendary_shards())\n",
    "\n",
    "# Create callback for clear button\n",
    "def on_clear_click(click):\n",
    "    calculations.init_legendary_table()\n",
    "    reset_grid()\n",
    "\n",
    "\n",
    "# Reset legendary counts to 0\n",
    "def reset_grid():\n",
    "    for i in range(4):\n",
    "        for j in range(3):\n",
    "            grid[i, j].value = 0\n",
    "\n",
    "# Loop through each cell in the grid\n",
    "for i in range(4):\n",
    "    for j in range(3):\n",
    "        idx = (3 * i) + j\n",
    "        desc = descriptions[idx]\n",
    "        \n",
    "        if options[idx] == -1:\n",
    "            textbox = BoundedIntText(value=0, min=0, description=f'{desc}', disabled=False)\n",
    "            textbox.observe(cell_eventhandler, names='value')\n",
    "            grid[i, j] = textbox\n",
    "        else:\n",
    "            dropdown = Dropdown(options=[x for x in range(0, options[idx] + 1)], description=f'{desc}')\n",
    "            dropdown.observe(cell_eventhandler, names='value')\n",
    "            grid[i, j] = dropdown\n",
    "\n",
    "# Add output box and clear button in last column\n",
    "clear_button = Button(description='Clear', disabled=False, layout=Layout(height='auto', width='auto'))\n",
    "grid[:4, 3] = clear_button\n",
    "\n",
    "# Add callback to button\n",
    "clear_button.on_click(on_clear_click)"
   ]
  },
  {
   "cell_type": "markdown",
   "id": "d7bfc16efbb256b3",
   "metadata": {
    "collapsed": false,
    "jupyter": {
     "outputs_hidden": false
    }
   },
   "source": [
    "### Put it all together"
   ]
  },
  {
   "cell_type": "code",
   "execution_count": 14,
   "id": "5daaab0ba82ce4df",
   "metadata": {
    "collapsed": false,
    "jupyter": {
     "outputs_hidden": false
    }
   },
   "outputs": [],
   "source": [
    "level_and_feat = TwoByTwoLayout(\n",
    "    top_left=dev_level_dropdown, \n",
    "    top_right=output_level,\n",
    "    bottom_left=feats_dropdown,\n",
    "    bottom_right=output_feats)\n",
    "other = HBox([other_shards, output_other])\n",
    "\n",
    "widget = VBox([dev_level_dropdown, feats_dropdown, grid, other_shards])"
   ]
  },
  {
   "cell_type": "code",
   "execution_count": null,
   "id": "10964d79-09ad-4684-923d-fe2cdf51d149",
   "metadata": {},
   "outputs": [],
   "source": []
  }
 ],
 "metadata": {
  "kernelspec": {
   "display_name": "Python 3 (ipykernel)",
   "language": "python",
   "name": "python3"
  },
  "language_info": {
   "codemirror_mode": {
    "name": "ipython",
    "version": 3
   },
   "file_extension": ".py",
   "mimetype": "text/x-python",
   "name": "python",
   "nbconvert_exporter": "python",
   "pygments_lexer": "ipython3",
   "version": "3.9.7"
  }
 },
 "nbformat": 4,
 "nbformat_minor": 5
}
