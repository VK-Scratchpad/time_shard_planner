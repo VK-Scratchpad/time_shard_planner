{
 "cells": [
  {
   "cell_type": "code",
   "execution_count": 6,
   "id": "initial_id",
   "metadata": {
    "collapsed": true,
    "ExecuteTime": {
     "end_time": "2024-02-22T00:02:11.895993200Z",
     "start_time": "2024-02-22T00:02:11.860949100Z"
    }
   },
   "outputs": [
    {
     "data": {
      "text/plain": "interactive(children=(Dropdown(description='Dropdown 1:', options=(35, 40, 45, 50, 55, 60, 65, 70, 75, 80, 85,…",
      "application/vnd.jupyter.widget-view+json": {
       "version_major": 2,
       "version_minor": 0,
       "model_id": "159976e74fb0438ab14f5e9439230a9c"
      }
     },
     "metadata": {},
     "output_type": "display_data"
    }
   ],
   "source": [
    "from ipywidgets import interact, Dropdown, Output, VBox\n",
    "\n",
    "# Define the options for dropdown menus\n",
    "options = {\n",
    "    'Devourer Lvl': [x for x in range(35, 100, 5)],\n",
    "    'Dropdown 2': ['Option A', 'Option B', 'Option C'],\n",
    "    'Dropdown 3': ['Apple', 'Banana', 'Orange'],\n",
    "    'Dropdown 4': ['Red', 'Green', 'Blue']\n",
    "}\n",
    "\n",
    "# Define the output textbox\n",
    "output = Output()\n",
    "\n",
    "# Define a function to update the output textbox\n",
    "def update_output(dropdown1_val, dropdown2_val, dropdown3_val, dropdown4_val):\n",
    "    output.clear_output()\n",
    "    with output:\n",
    "        print(f\"Selected values: {dropdown1_val}, {dropdown2_val}, {dropdown3_val}, {dropdown4_val}\")\n",
    "\n",
    "# Create dropdown widgets\n",
    "dropdown1 = Dropdown(options=options['Devourer Lvl'], description='Dropdown 1:')\n",
    "dropdown2 = Dropdown(options=options['Dropdown 2'], description='Dropdown 2:')\n",
    "dropdown3 = Dropdown(options=options['Dropdown 3'], description='Dropdown 3:')\n",
    "dropdown4 = Dropdown(options=options['Dropdown 4'], description='Dropdown 4:')\n",
    "\n",
    "# Create an interaction between the dropdowns and the output textbox\n",
    "interact(update_output,\n",
    "         dropdown1_val=dropdown1,\n",
    "         dropdown2_val=dropdown2,\n",
    "         dropdown3_val=dropdown3,\n",
    "         dropdown4_val=dropdown4)\n",
    "\n",
    "# Arrange the widgets using VBox\n",
    "widgets = VBox([dropdown1, dropdown2, dropdown3, dropdown4, output])"
   ]
  },
  {
   "cell_type": "code",
   "outputs": [
    {
     "data": {
      "text/plain": "VBox(children=(Dropdown(description='Dropdown 1:', options=(35, 40, 45, 50, 55, 60, 65, 70, 75, 80, 85, 90, 95…",
      "application/vnd.jupyter.widget-view+json": {
       "version_major": 2,
       "version_minor": 0,
       "model_id": "79e6103684624f24bc2df0a147b7a51a"
      }
     },
     "execution_count": 7,
     "metadata": {},
     "output_type": "execute_result"
    }
   ],
   "source": [
    "widgets"
   ],
   "metadata": {
    "collapsed": false,
    "ExecuteTime": {
     "end_time": "2024-02-22T00:02:11.912965300Z",
     "start_time": "2024-02-22T00:02:11.903996600Z"
    }
   },
   "id": "fcb7f42b80a11fed",
   "execution_count": 7
  },
  {
   "cell_type": "code",
   "outputs": [],
   "source": [],
   "metadata": {
    "collapsed": false,
    "ExecuteTime": {
     "end_time": "2024-02-22T00:02:11.939443900Z",
     "start_time": "2024-02-22T00:02:11.912965300Z"
    }
   },
   "id": "93f0a551345340b7",
   "execution_count": 7
  }
 ],
 "metadata": {
  "kernelspec": {
   "display_name": "Python 3",
   "language": "python",
   "name": "python3"
  },
  "language_info": {
   "codemirror_mode": {
    "name": "ipython",
    "version": 2
   },
   "file_extension": ".py",
   "mimetype": "text/x-python",
   "name": "python",
   "nbconvert_exporter": "python",
   "pygments_lexer": "ipython2",
   "version": "2.7.6"
  }
 },
 "nbformat": 4,
 "nbformat_minor": 5
}
