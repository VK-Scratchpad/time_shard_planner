{
 "cells": [
  {
   "cell_type": "code",
   "execution_count": null,
   "id": "initial_id",
   "metadata": {},
   "outputs": [],
   "source": [
    "from ipywidgets import interact, Dropdown, Output, GridspecLayout, VBox, BoundedIntText, HBox, Button, TwoByTwoLayout, Layout\n",
    "from math import prod\n",
    "\n",
    "import calculations"
   ]
  },
  {
   "cell_type": "code",
   "execution_count": null,
   "id": "edd4ca83-5422-4fd1-9a06-e41f020bce5a",
   "metadata": {},
   "outputs": [],
   "source": [
    "total = [150, 1, 1, 1]\n",
    "final_shards = Output(outputs=[{'output_type': 'stream', 'text': '150'}])"
   ]
  },
  {
   "cell_type": "code",
   "execution_count": null,
   "id": "93f0a551345340b7",
   "metadata": {
    "collapsed": false
   },
   "outputs": [],
   "source": [
    "### Define the Devourer Level widgets\n",
    "\n",
    "# Define the options for dropdown menus\n",
    "options = {\n",
    "    'Devourer Lvl': [x for x in range(35, 101, 5)]\n",
    "}\n",
    "\n",
    "# Define the output textbox\n",
    "output_level = Output(outputs=[{'output_type': 'stream', 'text': '150'}])\n",
    "\n",
    "# Define a function to update the level textbox\n",
    "def update_output_level(dev_level_dropdown_val):\n",
    "    total[0] = int(calculations.get_level_shards(dev_level_dropdown_val['new']))\n",
    "    output_level.clear_output()\n",
    "    with output_level:\n",
    "        print(f\"{calculations.get_level_shards(dev_level_dropdown_val['new']):,}\")    # :, automatically adds the thousands separator\n",
    "    with final_shards:\n",
    "        final_shards.clear_output()\n",
    "        print(f'{int(prod(total)):,}')\n",
    "\n",
    "# Create dropdown widgets\n",
    "dev_level_dropdown = Dropdown(options=options['Devourer Lvl'], description='Devourer Lvl:')\n",
    "\n",
    "# Create an interaction between the dropdowns and the output textbox\n",
    "dev_level_dropdown.observe(update_output_level, names='value')"
   ]
  },
  {
   "cell_type": "code",
   "execution_count": null,
   "id": "0f9cd7fd-933a-45fd-8c81-febfa1c3d4f4",
   "metadata": {},
   "outputs": [],
   "source": [
    "### Define the Feats widgets\n",
    "\n",
    "# Define the options for dropdown menus\n",
    "options = {\n",
    "    'Feats': [x for x in range(1, 26)],\n",
    "}\n",
    "\n",
    "# Define the output textbox\n",
    "output_feats = Output(outputs=[{'output_type': 'stream', 'text': '100%'}])\n",
    "\n",
    "# Define a function to update the feats textbox\n",
    "def update_output_feats(feats_dropdown_val):\n",
    "    total[1] = int(calculations.get_feat_shards(feats_dropdown_val['new'])) / 100.\n",
    "    output_feats.clear_output()\n",
    "    with output_feats:\n",
    "        print(f\"{calculations.get_feat_shards(feats_dropdown_val['new'])}%\")\n",
    "    with final_shards:\n",
    "        final_shards.clear_output()\n",
    "        print(f'{int(prod(total)):,}')\n",
    "\n",
    "# Create dropdown widgets\n",
    "feats_dropdown = Dropdown(options=options['Feats'], description='Feats:')\n",
    "\n",
    "# Create an interaction between the dropdowns and the output textbox\n",
    "feats_dropdown.observe(update_output_feats, names='value')"
   ]
  },
  {
   "cell_type": "code",
   "execution_count": null,
   "id": "5c6f7b9fdee8f8c5",
   "metadata": {
    "collapsed": false
   },
   "outputs": [],
   "source": [
    "### Define the Other widget\n",
    "\n",
    "# Define the output textbox\n",
    "output_other = Output(outputs=[{'output_type': 'stream', 'text': '100%'}])\n",
    "\n",
    "# Define int input box for Other category\n",
    "other_shards = BoundedIntText(value=100, min=100, max=150, description='Other:', disabled=False)\n",
    "\n",
    "# Define a function to update the other textbox\n",
    "def update_output_other(other_val):\n",
    "    total[3] = int(other_val['new']) / 100.\n",
    "    output_other.clear_output()\n",
    "    with output_other:\n",
    "        print(f\"{other_val['new']}%\")\n",
    "    with final_shards:\n",
    "        final_shards.clear_output()\n",
    "        print(f'{int(prod(total)):,}')\n",
    "\n",
    "# Create an interaction between the dropdowns and the output textbox\n",
    "other_shards.observe(update_output_other, names='value')"
   ]
  },
  {
   "cell_type": "code",
   "execution_count": null,
   "id": "d7106f9574f13d",
   "metadata": {
    "collapsed": false
   },
   "outputs": [],
   "source": [
    "### Define the legendaries widget\n",
    "\n",
    "# Define the output textbox\n",
    "output_legend = Output(outputs=[{'output_type': 'stream', 'text': '100%'}])\n",
    "\n",
    "# Define the options for dropdown menus\n",
    "options = calculations.list_legendary_limits()\n",
    "\n",
    "# Define the descriptions for dropdown menus\n",
    "descriptions = calculations.list_legendaries()\n",
    "\n",
    "# Create a 4x4 grid to hold the dropdowns\n",
    "grid = GridspecLayout(4, 4)\n",
    "\n",
    "# Create callback for grid changes\n",
    "def cell_eventhandler(change):\n",
    "    output_legend.clear_output()\n",
    "    with output_legend:\n",
    "        calculations.update_legendary_count(change['new'], change['owner'].description)\n",
    "        print(f'{calculations.get_legendary_bonus()}%')\n",
    "    total[2] = int(calculations.get_legendary_bonus()) / 100.\n",
    "    with final_shards:\n",
    "        final_shards.clear_output()\n",
    "        print(f'{int(prod(total)):,}')\n",
    "\n",
    "# Create callback for clear button\n",
    "def on_clear_click(click):\n",
    "    calculations.init_legendary_table()\n",
    "    reset_grid()\n",
    "    \n",
    "\n",
    "# Reset legendary counts to 0\n",
    "def reset_grid():\n",
    "    for i in range(4):\n",
    "        for j in range(3):\n",
    "            grid[i, j].value = 0\n",
    "\n",
    "# Loop through each cell in the grid\n",
    "for i in range(4):\n",
    "    for j in range(3):\n",
    "        idx = (3 * i) + j\n",
    "        desc = descriptions[idx]\n",
    "        \n",
    "        if options[idx] == -1:\n",
    "            textbox = BoundedIntText(value=0, min=0, max=100, description=f'{desc}', disabled=False)\n",
    "            textbox.observe(cell_eventhandler, names='value')\n",
    "            grid[i, j] = textbox\n",
    "        else:\n",
    "            dropdown = Dropdown(options=[x for x in range(0, options[idx] + 1)], description=f'{desc}')\n",
    "            dropdown.observe(cell_eventhandler, names='value')\n",
    "            grid[i, j] = dropdown\n",
    "\n",
    "# Add output box and clear button in last column\n",
    "clear_button = Button(description='Clear', disabled=False, layout=Layout(height='auto', width='auto'))\n",
    "grid[:4, 3] = clear_button\n",
    "\n",
    "# Add callback to button\n",
    "clear_button.on_click(on_clear_click)"
   ]
  },
  {
   "cell_type": "code",
   "execution_count": null,
   "id": "c8b440ced6cc970e",
   "metadata": {
    "collapsed": false
   },
   "outputs": [],
   "source": [
    "### Output cells\n",
    "\n",
    "outputs = HBox([\n",
    "    output_level, Output(outputs=[{'output_type': 'stream', 'text': 'x'}]),\n",
    "    output_feats, Output(outputs=[{'output_type': 'stream', 'text': 'x'}]),\n",
    "    output_legend, Output(outputs=[{'output_type': 'stream', 'text': 'x'}]),\n",
    "    output_other, Output(outputs=[{'output_type': 'stream', 'text': '='}]),\n",
    "    final_shards\n",
    "])\n",
    "               "
   ]
  },
  {
   "cell_type": "code",
   "execution_count": null,
   "id": "5ea92785-c54b-4872-9821-4ed01a8d371d",
   "metadata": {
    "collapsed": false
   },
   "outputs": [],
   "source": [
    "##### Put it all together\n",
    "spacer_widget = Output(outputs=[{'output_type': 'stream', 'text': '\\n'}])\n",
    "multi_spacer_widget = Output(outputs=[{'output_type': 'stream', 'text': '\\n\\n\\n'}])\n",
    "\n",
    "level_and_feat = TwoByTwoLayout(\n",
    "    top_left=dev_level_dropdown, \n",
    "    top_right=output_level,\n",
    "    bottom_left=feats_dropdown,\n",
    "    bottom_right=output_feats)\n",
    "other = HBox([other_shards, output_other])\n",
    "\n",
    "widget = VBox([dev_level_dropdown, spacer_widget, feats_dropdown, spacer_widget, grid, spacer_widget, other_shards, multi_spacer_widget, outputs])\n",
    "widget"
   ]
  }
 ],
 "metadata": {
  "kernelspec": {
   "display_name": "Python 3 (ipykernel)",
   "language": "python",
   "name": "python3"
  },
  "language_info": {
   "codemirror_mode": {
    "name": "ipython",
    "version": 3
   },
   "file_extension": ".py",
   "mimetype": "text/x-python",
   "name": "python",
   "nbconvert_exporter": "python",
   "pygments_lexer": "ipython3",
   "version": "3.9.7"
  }
 },
 "nbformat": 4,
 "nbformat_minor": 5
}
